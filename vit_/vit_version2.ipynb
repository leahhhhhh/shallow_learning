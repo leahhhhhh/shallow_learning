{
 "cells": [
  {
   "cell_type": "code",
   "execution_count": 201,
   "metadata": {},
   "outputs": [],
   "source": [
    "import importlib\n",
    "import  vit_.cifar_dataloader as cifar_dataloader\n",
    "importlib.reload(cifar_dataloader)\n",
    "import  vit_.cifar_dataloader as cifar_dataloader\n",
    "from vit_.cifar_dataloader import dataloader2\n",
    "\n",
    "import train_evaluate\n",
    "importlib.reload(train_evaluate)\n",
    "import train_evaluate\n",
    "from train_evaluate import train,validate,evaluate\n",
    "\n",
    "\n",
    "import torchvision.models as models\n",
    "import numpy  as np\n",
    "import numpy as np\n",
    "import seaborn as sns\n",
    "import torch\n",
    "import torchvision.models as models\n",
    "import torch.nn as nn\n",
    "\n",
    "\n",
    "\n",
    "\n",
    "sns.set()"
   ]
  },
  {
   "cell_type": "markdown",
   "metadata": {},
   "source": [
    "## vit model"
   ]
  },
  {
   "cell_type": "code",
   "execution_count": 188,
   "metadata": {},
   "outputs": [],
   "source": [
    "class CreatePatches(nn.Module):\n",
    "    def __init__(\n",
    "        self, channels=3, embed_dim=768, patch_size=16\n",
    "    ):\n",
    "        super().__init__()\n",
    "        self.patch = nn.Conv2d(\n",
    "            in_channels=channels,\n",
    "            out_channels=embed_dim,\n",
    "            kernel_size=patch_size,\n",
    "            stride=patch_size\n",
    "        )\n",
    "    def forward(self, x):\n",
    "        # Flatten along dim = 2 to maintain channel dimension.\n",
    "        patches = self.patch(x).flatten(2).transpose(1, 2)\n",
    "        return patches"
   ]
  },
  {
   "cell_type": "code",
   "execution_count": 164,
   "metadata": {},
   "outputs": [],
   "source": [
    "from PIL import Image\n",
    "from torchvision import transforms\n",
    "# 读取图像\n",
    "\n",
    "image = Image.open('/Users/jiawen/Desktop/test.jpg')\n",
    "image = image.convert('RGB')\n",
    "# 显示图像（可选）\n",
    "image.show()\n"
   ]
  },
  {
   "cell_type": "code",
   "execution_count": 165,
   "metadata": {},
   "outputs": [
    {
     "name": "stdout",
     "output_type": "stream",
     "text": [
      "torch.Size([3, 224, 224])\n"
     ]
    }
   ],
   "source": [
    "transform = transforms.Compose([\n",
    "    transforms.CenterCrop(224),\n",
    "    transforms.ToTensor(),  # 将图像转换为张量\n",
    "])\n",
    "\n",
    "# 应用转换\n",
    "tensor_image = transform(image)\n",
    "\n",
    "# 查看张量的形状\n",
    "print(tensor_image.shape)"
   ]
  },
  {
   "cell_type": "code",
   "execution_count": 185,
   "metadata": {},
   "outputs": [
    {
     "name": "stdout",
     "output_type": "stream",
     "text": [
      "torch.Size([768, 14, 14])\n"
     ]
    }
   ],
   "source": [
    "patches=CreatePatches()\n",
    "patches_=patches(tensor_image)\n",
    "print(patches_.shape)\n",
    "patches_=patches_.permute(1,2,0)\n",
    "patches_=patches_.view(14,14,16,16,3)"
   ]
  },
  {
   "cell_type": "code",
   "execution_count": 183,
   "metadata": {},
   "outputs": [
    {
     "name": "stderr",
     "output_type": "stream",
     "text": [
      "Clipping input data to the valid range for imshow with RGB data ([0..1] for floats or [0..255] for integers).\n"
     ]
    },
    {
     "data": {
      "text/plain": [
       "<matplotlib.image.AxesImage at 0x282f56130>"
      ]
     },
     "execution_count": 183,
     "metadata": {},
     "output_type": "execute_result"
    },
    {
     "data": {
      "image/png": "[encoded data removed]",
      "text/plain": [
       "<Figure size 640x480 with 1 Axes>"
      ]
     },
     "metadata": {},
     "output_type": "display_data"
    }
   ],
   "source": [
    "import matplotlib.pyplot as plt\n",
    "a=patches_[0,0,:]\n",
    "a=a.detach().numpy()\n",
    "plt.imshow(a)"
   ]
  },
  {
   "cell_type": "code",
   "execution_count": 189,
   "metadata": {},
   "outputs": [],
   "source": [
    "class AttentionBlock(nn.Module):\n",
    "    def __init__(self, embed_dim, hidden_dim, num_heads, dropout=0.0):\n",
    "        super().__init__()\n",
    "        self.pre_norm = nn.LayerNorm(embed_dim, eps=1e-06)\n",
    "        self.attention = nn.MultiheadAttention(\n",
    "            embed_dim=embed_dim,\n",
    "            num_heads=num_heads,\n",
    "            dropout=dropout,\n",
    "            batch_first=True\n",
    "        )\n",
    "        self.norm = nn.LayerNorm(embed_dim, eps=1e-06)\n",
    "        self.MLP = nn.Sequential(\n",
    "            nn.Linear(embed_dim, hidden_dim),\n",
    "            nn.GELU(),\n",
    "            nn.Dropout(dropout),\n",
    "            nn.Linear(hidden_dim, embed_dim),\n",
    "            nn.Dropout(dropout)\n",
    "        )\n",
    "    def forward(self, x):\n",
    "        x_norm = self.pre_norm(x)\n",
    "        # MultiheadAttention returns attention output and weights,\n",
    "        # we need only the outputs, so [0] index.\n",
    "        x = x + self.attention(x_norm, x_norm, x_norm)[0]\n",
    "        x = x + self.MLP(self.norm(x))\n",
    "        return x"
   ]
  },
  {
   "cell_type": "code",
   "execution_count": 202,
   "metadata": {},
   "outputs": [],
   "source": [
    "class ViT(nn.Module):\n",
    "    def __init__(\n",
    "        self, \n",
    "        img_size=224,\n",
    "        in_channels=3,\n",
    "        patch_size=16,\n",
    "        embed_dim=768,\n",
    "        hidden_dim=3072,\n",
    "        num_heads=12,\n",
    "        num_layers=12,\n",
    "        dropout=0.0,\n",
    "        num_classes=3\n",
    "    ):\n",
    "        super().__init__()\n",
    "        self.patch_size = patch_size\n",
    "        num_patches = (img_size//patch_size) ** 2\n",
    "        self.patches = CreatePatches(\n",
    "            channels=in_channels,\n",
    "            embed_dim=embed_dim,\n",
    "            patch_size=patch_size\n",
    "        )\n",
    "        # Postional encoding.\n",
    "        self.pos_embedding = nn.Parameter(torch.randn(1, num_patches+1, embed_dim))\n",
    "        self.cls_token = nn.Parameter(torch.randn(1, 1, embed_dim))\n",
    "        self.attn_layers = nn.ModuleList([])\n",
    "        for _ in range(num_layers):\n",
    "            self.attn_layers.append(\n",
    "                AttentionBlock(embed_dim, hidden_dim, num_heads, dropout)\n",
    "            )\n",
    "        self.dropout = nn.Dropout(dropout)\n",
    "        self.ln = nn.LayerNorm(embed_dim, eps=1e-06)\n",
    "        self.head = nn.Linear(embed_dim, num_classes)\n",
    "        self.apply(self._init_weights)\n",
    "    def _init_weights(self, m):\n",
    "        if isinstance(m, nn.Linear):\n",
    "            nn.init.trunc_normal_(m.weight, std=.02)\n",
    "            if isinstance(m, nn.Linear) and m.bias is not None:\n",
    "                nn.init.constant_(m.bias, 0)\n",
    "        elif isinstance(m, nn.LayerNorm):\n",
    "            nn.init.constant_(m.bias, 0)\n",
    "            nn.init.constant_(m.weight, 1.0)\n",
    "    def forward(self, x):\n",
    "        x = self.patches(x)\n",
    "        b, n, _ = x.shape\n",
    " \n",
    "        cls_tokens = self.cls_token.expand(b, -1, -1)\n",
    "        x = torch.cat((cls_tokens, x), dim=1)\n",
    "        x += self.pos_embedding\n",
    "        x = self.dropout(x)\n",
    "        for layer in self.attn_layers:\n",
    "            x = layer(x)\n",
    "        x = self.ln(x)\n",
    "        x = x[:, 0]\n",
    "        return self.head(x)"
   ]
  },
  {
   "cell_type": "code",
   "execution_count": 203,
   "metadata": {},
   "outputs": [],
   "source": [
    "vit_full=ViT(img_size=224,\n",
    "        in_channels=3,\n",
    "        patch_size=16,\n",
    "        embed_dim=768,\n",
    "        hidden_dim=3072,\n",
    "        num_heads=12,\n",
    "        num_layers=12,\n",
    "        dropout=0.0,\n",
    "        num_classes=3)"
   ]
  },
  {
   "cell_type": "markdown",
   "metadata": {},
   "source": [
    "## pretrain model"
   ]
  },
  {
   "cell_type": "code",
   "execution_count": 204,
   "metadata": {},
   "outputs": [
    {
     "name": "stdout",
     "output_type": "stream",
     "text": [
      "(160, 32, 32, 3)\n"
     ]
    }
   ],
   "source": [
    "CIFAR = np.load('./datasets/CIFAR.npz')\n",
    "train_loader,val_loader,test_loader=dataloader2(CIFAR)"
   ]
  },
  {
   "cell_type": "code",
   "execution_count": 12,
   "metadata": {},
   "outputs": [],
   "source": [
    "weights = models.ViT_B_16_Weights.DEFAULT\n",
    "vit = models.vit_b_16(weights=weights)"
   ]
  },
  {
   "cell_type": "code",
   "execution_count": 13,
   "metadata": {},
   "outputs": [],
   "source": [
    "class VIT(nn.Module):\n",
    "    def __init__(self, output_shape):\n",
    "        super(VIT, self).__init__()\n",
    "\n",
    "        self.pretrained = models.vit_b_16(weights=weights)\n",
    "        for param in self.pretrained.parameters():\n",
    "            param.requires_grad = False\n",
    "\n",
    "        pretrained_output = 1000\n",
    "        self.fc = torch.nn.Sequential(\n",
    "            nn.Linear(in_features=pretrained_output,\n",
    "                      out_features=output_shape,\n",
    "                      bias=False),\n",
    "        )\n",
    "\n",
    "    def forward(self, image):\n",
    "        output = self.pretrained(image)\n",
    "        output = self.fc(output)\n",
    "        return output\n",
    "\n",
    "vit = VIT(output_shape=3)"
   ]
  },
  {
   "cell_type": "code",
   "execution_count": 206,
   "metadata": {},
   "outputs": [],
   "source": [
    "def run(dataset,epochs=10,lr=0.01):\n",
    "\n",
    "    train_loader,val_loader,test_loader=dataloader2(dataset)\n",
    "    #model=resnet18\n",
    "    #model=Lenet()\n",
    "    ## review\n",
    "    model=vit_full\n",
    "\n",
    "    # resnet18 = resnet18.fc.in_features\n",
    "    # resnet18.fc = nn.Linear(num_ftrs, 3)\n",
    "    criterion = torch.nn.CrossEntropyLoss()\n",
    "    optimizer = torch.optim.SGD(params=model.parameters(), lr=lr)\n",
    "    training_losses = []\n",
    "    training_accuracies = []\n",
    "    validation_losses = []\n",
    "    validation_accuracies = []\n",
    "    test_losses = []\n",
    "    test_accuracies = []\n",
    "    \n",
    "    for epoch in range(epochs):\n",
    "        train_acc, train_loss=train(model,criterion, optimizer, train_loader)\n",
    "        val_acc, val_loss=validate(model,criterion, val_loader)\n",
    "        test_acc, test_loss=validate(model,criterion, test_loader)\n",
    "\n",
    "        training_accuracies.append(train_acc)\n",
    "        training_losses.append(train_loss)\n",
    "        validation_accuracies.append(val_acc)\n",
    "        validation_losses.append(val_loss)\n",
    "        test_accuracies.append(test_acc)\n",
    "        test_losses.append(test_loss)\n",
    "\n",
    "\n",
    "        print(f\"epoch: {epoch}\\n \\\n",
    "            train_acc: {train_acc}, train_loss: {train_loss}\\n \\\n",
    "            val_acc: {val_acc}, val_loss: {val_loss}\\n \\\n",
    "            test_acc: {test_acc}, test_loss: {test_loss}\\n\")\n",
    "    #precision,recall,accuracy=evaluate(dataset,model)\n",
    "\n",
    "\n",
    "    return (training_accuracies,training_losses,\n",
    "            validation_accuracies,\n",
    "            validation_losses,\n",
    "            test_accuracies,\n",
    "            test_losses,\n",
    "            # precision,\n",
    "            # recall,\n",
    "            # accuracy,\n",
    "            model)"
   ]
  },
  {
   "cell_type": "code",
   "execution_count": 207,
   "metadata": {},
   "outputs": [
    {
     "name": "stdout",
     "output_type": "stream",
     "text": [
      "(160, 32, 32, 3)\n",
      "train_shape torch.Size([64, 3])\n",
      "train_shape torch.Size([64, 3])\n",
      "train_shape torch.Size([32, 3])\n",
      "epoch: 0\n",
      "             train_acc: 0.31875, train_loss: 3.747627305984497\n",
      "             val_acc: 0.4, val_loss: 2.120547294616699\n",
      "             test_acc: 0.3333333333333333, test_loss: 2.5403476479848224\n",
      "\n"
     ]
    },
    {
     "ename": "ValueError",
     "evalue": "not enough values to unpack (expected 10, got 7)",
     "output_type": "error",
     "traceback": [
      "\u001b[0;31m---------------------------------------------------------------------------\u001b[0m",
      "\u001b[0;31mValueError\u001b[0m                                Traceback (most recent call last)",
      "\u001b[1;32m/Users/jiawen/Desktop/USYD_S2/5328/assignment2/vit_version2.ipynb 单元格 16\u001b[0m line \u001b[0;36m1\n\u001b[0;32m----> <a href='vscode-notebook-cell:/Users/jiawen/Desktop/USYD_S2/5328/assignment2/vit_version2.ipynb#W5sZmlsZQ%3D%3D?line=0'>1</a>\u001b[0m (training_accuracies,training_losses,\n\u001b[1;32m      <a href='vscode-notebook-cell:/Users/jiawen/Desktop/USYD_S2/5328/assignment2/vit_version2.ipynb#W5sZmlsZQ%3D%3D?line=1'>2</a>\u001b[0m validation_accuracies,\n\u001b[1;32m      <a href='vscode-notebook-cell:/Users/jiawen/Desktop/USYD_S2/5328/assignment2/vit_version2.ipynb#W5sZmlsZQ%3D%3D?line=2'>3</a>\u001b[0m validation_losses,\n\u001b[1;32m      <a href='vscode-notebook-cell:/Users/jiawen/Desktop/USYD_S2/5328/assignment2/vit_version2.ipynb#W5sZmlsZQ%3D%3D?line=3'>4</a>\u001b[0m test_accuracies,\n\u001b[1;32m      <a href='vscode-notebook-cell:/Users/jiawen/Desktop/USYD_S2/5328/assignment2/vit_version2.ipynb#W5sZmlsZQ%3D%3D?line=4'>5</a>\u001b[0m test_losses,\n\u001b[1;32m      <a href='vscode-notebook-cell:/Users/jiawen/Desktop/USYD_S2/5328/assignment2/vit_version2.ipynb#W5sZmlsZQ%3D%3D?line=5'>6</a>\u001b[0m precision,\n\u001b[1;32m      <a href='vscode-notebook-cell:/Users/jiawen/Desktop/USYD_S2/5328/assignment2/vit_version2.ipynb#W5sZmlsZQ%3D%3D?line=6'>7</a>\u001b[0m recall,\n\u001b[1;32m      <a href='vscode-notebook-cell:/Users/jiawen/Desktop/USYD_S2/5328/assignment2/vit_version2.ipynb#W5sZmlsZQ%3D%3D?line=7'>8</a>\u001b[0m accuracy,\n\u001b[1;32m      <a href='vscode-notebook-cell:/Users/jiawen/Desktop/USYD_S2/5328/assignment2/vit_version2.ipynb#W5sZmlsZQ%3D%3D?line=8'>9</a>\u001b[0m model)\u001b[39m=\u001b[39mrun(CIFAR,epochs\u001b[39m=\u001b[39m\u001b[39m1\u001b[39m,lr\u001b[39m=\u001b[39m\u001b[39m0.01\u001b[39m)\n",
      "\u001b[0;31mValueError\u001b[0m: not enough values to unpack (expected 10, got 7)"
     ]
    }
   ],
   "source": [
    "(training_accuracies,training_losses,\n",
    "validation_accuracies,\n",
    "validation_losses,\n",
    "test_accuracies,\n",
    "test_losses,\n",
    "precision,\n",
    "recall,\n",
    "accuracy,\n",
    "model)=run(CIFAR,epochs=3,lr=0.01)"
   ]
  },
  {
   "cell_type": "code",
   "execution_count": null,
   "metadata": {},
   "outputs": [],
   "source": []
  }
 ],
 "metadata": {
  "kernelspec": {
   "display_name": "ai",
   "language": "python",
   "name": "python3"
  },
  "language_info": {
   "codemirror_mode": {
    "name": "ipython",
    "version": 3
   },
   "file_extension": ".py",
   "mimetype": "text/x-python",
   "name": "python",
   "nbconvert_exporter": "python",
   "pygments_lexer": "ipython3",
   "version": "3.9.18"
  }
 },
 "nbformat": 4,
 "nbformat_minor": 2
}
