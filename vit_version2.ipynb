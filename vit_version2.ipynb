{
 "cells": [
  {
   "cell_type": "code",
   "execution_count": 15,
   "metadata": {},
   "outputs": [],
   "source": [
    "import importlib\n",
    "import  cifar_dataloader\n",
    "importlib.reload(cifar_dataloader)\n",
    "import  cifar_dataloader\n",
    "from cifar_dataloader import dataloader2\n",
    "\n",
    "import train_evaluate\n",
    "importlib.reload(train_evaluate)\n",
    "import train_evaluate\n",
    "from train_evaluate import train,validate,evaluate\n",
    "\n",
    "\n",
    "import torchvision.models as models\n",
    "import numpy  as np\n",
    "import numpy as np\n",
    "import seaborn as sns\n",
    "import torch\n",
    "import torchvision.models as models\n",
    "import torch.nn as nn\n",
    "\n",
    "\n",
    "\n",
    "\n",
    "sns.set()"
   ]
  },
  {
   "cell_type": "code",
   "execution_count": 16,
   "metadata": {},
   "outputs": [
    {
     "name": "stdout",
     "output_type": "stream",
     "text": [
      "(400, 32, 32, 3)\n"
     ]
    }
   ],
   "source": [
    "CIFAR = np.load('./datasets/CIFAR.npz')\n",
    "train_loader,val_loader,test_loader=dataloader2(CIFAR)"
   ]
  },
  {
   "cell_type": "code",
   "execution_count": 12,
   "metadata": {},
   "outputs": [],
   "source": [
    "weights = models.ViT_B_16_Weights.DEFAULT\n",
    "vit = models.vit_b_16(weights=weights)"
   ]
  },
  {
   "cell_type": "code",
   "execution_count": 13,
   "metadata": {},
   "outputs": [],
   "source": [
    "class VIT(nn.Module):\n",
    "    def __init__(self, output_shape):\n",
    "        super(VIT, self).__init__()\n",
    "\n",
    "        self.pretrained = models.vit_b_16(weights=weights)\n",
    "        for param in self.pretrained.parameters():\n",
    "            param.requires_grad = False\n",
    "\n",
    "        pretrained_output = 1000\n",
    "        self.fc = torch.nn.Sequential(\n",
    "            nn.Linear(in_features=pretrained_output,\n",
    "                      out_features=output_shape,\n",
    "                      bias=False),\n",
    "        )\n",
    "\n",
    "    def forward(self, image):\n",
    "        output = self.pretrained(image)\n",
    "        output = self.fc(output)\n",
    "        return output\n",
    "\n",
    "vit = VIT(output_shape=3)"
   ]
  },
  {
   "cell_type": "code",
   "execution_count": 14,
   "metadata": {},
   "outputs": [],
   "source": [
    "def run(dataset,epochs=10,lr=0.01):\n",
    "\n",
    "    train_loader,val_loader,test_loader=dataloader2(dataset)\n",
    "    #model=resnet18\n",
    "    #model=Lenet()\n",
    "    model=vit\n",
    "    # resnet18 = resnet18.fc.in_features\n",
    "    # resnet18.fc = nn.Linear(num_ftrs, 3)\n",
    "    criterion = torch.nn.CrossEntropyLoss()\n",
    "    optimizer = torch.optim.SGD(params=model.parameters(), lr=lr)\n",
    "    training_losses = []\n",
    "    training_accuracies = []\n",
    "    validation_losses = []\n",
    "    validation_accuracies = []\n",
    "    test_losses = []\n",
    "    test_accuracies = []\n",
    "    \n",
    "    for epoch in range(epochs):\n",
    "        train_acc, train_loss=train(model,criterion, optimizer, train_loader)\n",
    "        val_acc, val_loss=validate(model,criterion, val_loader)\n",
    "        test_acc, test_loss=validate(model,criterion, test_loader)\n",
    "\n",
    "        training_accuracies.append(train_acc)\n",
    "        training_losses.append(train_loss)\n",
    "        validation_accuracies.append(val_acc)\n",
    "        validation_losses.append(val_loss)\n",
    "        test_accuracies.append(test_acc)\n",
    "        test_losses.append(test_loss)\n",
    "\n",
    "\n",
    "        print(f\"epoch: {epoch}\\n \\\n",
    "            train_acc: {train_acc}, train_loss: {train_loss}\\n \\\n",
    "            val_acc: {val_acc}, val_loss: {val_loss}\\n \\\n",
    "            test_acc: {test_acc}, test_loss: {test_loss}\\n\")\n",
    "    precision,recall,accuracy=evaluate(dataset,model)\n",
    "\n",
    "\n",
    "    return (training_accuracies,training_losses,\n",
    "            validation_accuracies,\n",
    "            validation_losses,\n",
    "            test_accuracies,\n",
    "            test_losses,\n",
    "            precision,\n",
    "            recall,\n",
    "            accuracy,\n",
    "            model)"
   ]
  },
  {
   "cell_type": "code",
   "execution_count": null,
   "metadata": {},
   "outputs": [],
   "source": [
    "(training_accuracies,training_losses,\n",
    "validation_accuracies,\n",
    "validation_losses,\n",
    "test_accuracies,\n",
    "test_losses,\n",
    "precision,\n",
    "recall,\n",
    "accuracy,\n",
    "model)=run(CIFAR,epochs=1,lr=0.01)"
   ]
  },
  {
   "cell_type": "code",
   "execution_count": null,
   "metadata": {},
   "outputs": [],
   "source": []
  }
 ],
 "metadata": {
  "kernelspec": {
   "display_name": "ai",
   "language": "python",
   "name": "python3"
  },
  "language_info": {
   "codemirror_mode": {
    "name": "ipython",
    "version": 3
   },
   "file_extension": ".py",
   "mimetype": "text/x-python",
   "name": "python",
   "nbconvert_exporter": "python",
   "pygments_lexer": "ipython3",
   "version": "3.9.18"
  }
 },
 "nbformat": 4,
 "nbformat_minor": 2
}
