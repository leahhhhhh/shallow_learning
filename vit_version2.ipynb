{
 "cells": [
  {
   "cell_type": "code",
   "execution_count": 7,
   "metadata": {},
   "outputs": [],
   "source": [
    "import torchvision.models as models\n",
    "import numpy  as np\n",
    "from cifar_dataloader import dataloader1\n",
    "from train_evaluate import train,validate,evaluate\n",
    "import numpy as np\n",
    "import seaborn as sns\n",
    "import torch\n",
    "import torchvision.models as models\n",
    "\n",
    "\n",
    "\n",
    "sns.set()"
   ]
  },
  {
   "cell_type": "code",
   "execution_count": 8,
   "metadata": {},
   "outputs": [],
   "source": [
    "CIFAR = np.load('./datasets/CIFAR.npz')\n",
    "train_loader,val_loader,test_loader=dataloader1(CIFAR)"
   ]
  },
  {
   "cell_type": "code",
   "execution_count": 9,
   "metadata": {},
   "outputs": [],
   "source": [
    "weights = models.ViT_B_16_Weights.DEFAULT\n",
    "vit = models.vit_b_16(weights=weights)"
   ]
  },
  {
   "cell_type": "code",
   "execution_count": 10,
   "metadata": {},
   "outputs": [
    {
     "ename": "NameError",
     "evalue": "name 'nn' is not defined",
     "output_type": "error",
     "traceback": [
      "\u001b[0;31m---------------------------------------------------------------------------\u001b[0m",
      "\u001b[0;31mNameError\u001b[0m                                 Traceback (most recent call last)",
      "\u001b[1;32m/Users/jiawen/Desktop/USYD_S2/5328/assignment2/test.ipynb 单元格 4\u001b[0m line \u001b[0;36m1\n\u001b[0;32m----> <a href='vscode-notebook-cell:/Users/jiawen/Desktop/USYD_S2/5328/assignment2/test.ipynb#X10sZmlsZQ%3D%3D?line=0'>1</a>\u001b[0m \u001b[39mclass\u001b[39;00m \u001b[39mVIT\u001b[39;00m(nn\u001b[39m.\u001b[39mModule):\n\u001b[1;32m      <a href='vscode-notebook-cell:/Users/jiawen/Desktop/USYD_S2/5328/assignment2/test.ipynb#X10sZmlsZQ%3D%3D?line=1'>2</a>\u001b[0m     \u001b[39mdef\u001b[39;00m \u001b[39m__init__\u001b[39m(\u001b[39mself\u001b[39m, output_shape):\n\u001b[1;32m      <a href='vscode-notebook-cell:/Users/jiawen/Desktop/USYD_S2/5328/assignment2/test.ipynb#X10sZmlsZQ%3D%3D?line=2'>3</a>\u001b[0m         \u001b[39msuper\u001b[39m(VIT, \u001b[39mself\u001b[39m)\u001b[39m.\u001b[39m\u001b[39m__init__\u001b[39m()\n",
      "\u001b[0;31mNameError\u001b[0m: name 'nn' is not defined"
     ]
    }
   ],
   "source": [
    "class VIT(nn.Module):\n",
    "    def __init__(self, output_shape):\n",
    "        super(VIT, self).__init__()\n",
    "\n",
    "        self.pretrained = models.vit_b_16(weights=weights)\n",
    "        for param in self.pretrained.parameters():\n",
    "            param.requires_grad = False\n",
    "\n",
    "        pretrained_output = 1000\n",
    "        self.fc = torch.nn.Sequential(\n",
    "            nn.Linear(in_features=pretrained_output,\n",
    "                      out_features=output_shape,\n",
    "                      bias=False),\n",
    "        )\n",
    "\n",
    "    def forward(self, image):\n",
    "        output = self.pretrained(image)\n",
    "        output = self.fc(output)\n",
    "        return output\n",
    "\n",
    "vit = VIT(output_shape=3)"
   ]
  },
  {
   "cell_type": "code",
   "execution_count": 5,
   "metadata": {},
   "outputs": [],
   "source": [
    "def run(dataset,epochs=10,lr=0.01):\n",
    "\n",
    "    train_loader,val_loader,test_loader=dataloader1(dataset)\n",
    "    #model=resnet18\n",
    "    #model=Lenet()\n",
    "    model=vit\n",
    "    # resnet18 = resnet18.fc.in_features\n",
    "    # resnet18.fc = nn.Linear(num_ftrs, 3)\n",
    "    criterion = torch.nn.CrossEntropyLoss()\n",
    "    optimizer = torch.optim.SGD(params=model.parameters(), lr=lr)\n",
    "    training_losses = []\n",
    "    training_accuracies = []\n",
    "    validation_losses = []\n",
    "    validation_accuracies = []\n",
    "    test_losses = []\n",
    "    test_accuracies = []\n",
    "    \n",
    "    for epoch in range(epochs):\n",
    "        train_acc, train_loss=train(model,criterion, optimizer, train_loader)\n",
    "        val_acc, val_loss=validate(model,criterion, val_loader)\n",
    "        test_acc, test_loss=validate(model,criterion, test_loader)\n",
    "\n",
    "        training_accuracies.append(train_acc)\n",
    "        training_losses.append(train_loss)\n",
    "        validation_accuracies.append(val_acc)\n",
    "        validation_losses.append(val_loss)\n",
    "        test_accuracies.append(test_acc)\n",
    "        test_losses.append(test_loss)\n",
    "\n",
    "\n",
    "        print(f\"epoch: {epoch}\\n \\\n",
    "            train_acc: {train_acc}, train_loss: {train_loss}\\n \\\n",
    "            val_acc: {val_acc}, val_loss: {val_loss}\\n \\\n",
    "            test_acc: {test_acc}, test_loss: {test_loss}\\n\")\n",
    "    precision,recall=evaluate(dataset,model)\n",
    "\n",
    "\n",
    "    return (training_accuracies,training_losses,\n",
    "            validation_accuracies,\n",
    "            validation_losses,\n",
    "            test_accuracies,\n",
    "            test_losses,\n",
    "            precision,\n",
    "            recall,\n",
    "            model)\n",
    "\n",
    "\n",
    "        \n",
    "\n"
   ]
  },
  {
   "cell_type": "code",
   "execution_count": 6,
   "metadata": {},
   "outputs": [
    {
     "name": "stdout",
     "output_type": "stream",
     "text": [
      "tensor([[ 0.8777,  1.0377, -0.7686,  ..., -0.1750, -0.6322,  0.4727],\n",
      "        [-0.5890,  0.0803,  0.0302,  ..., -0.4474,  0.5405,  0.1599],\n",
      "        [-0.9892, -0.6682, -0.6949,  ..., -1.0041, -1.0692,  0.3819],\n",
      "        ...,\n",
      "        [ 1.1590,  0.2247, -1.3326,  ..., -0.6391, -1.1333, -0.7556],\n",
      "        [-0.7832, -0.3459,  0.4063,  ..., -0.5377,  0.5248,  0.2408],\n",
      "        [ 0.1059,  1.1621, -0.3674,  ...,  1.6935, -0.7779,  0.4221]],\n",
      "       grad_fn=<AddmmBackward0>)\n",
      "labels_view tensor([0., 0., 1., 0., 1., 0., 1., 0., 0., 1., 0., 0., 0., 0., 1., 0., 1., 0.,\n",
      "        0., 0., 1., 0., 0., 1., 0., 1., 0., 0., 0., 1., 0., 1., 0., 0., 1., 0.,\n",
      "        1., 0., 0., 0., 0., 1., 1., 0., 0., 1., 0., 0., 0., 0., 1., 1., 0., 0.,\n",
      "        0., 1., 0., 0., 0., 1., 1., 0., 0., 0., 1., 0., 0., 0., 1., 0., 1., 0.,\n",
      "        1., 0., 0., 1., 0., 0., 1., 0., 0., 0., 1., 0., 1., 0., 0., 0., 1., 0.,\n",
      "        1., 0., 0., 0., 0., 1., 0., 0., 1., 1., 0., 0., 0., 0., 1., 0., 0., 1.,\n",
      "        0., 0., 1., 0., 0., 1., 0., 1., 0., 0., 0., 1., 0., 0., 1., 0., 1., 0.,\n",
      "        0., 1., 0., 1., 0., 0., 0., 1., 0., 1., 0., 0., 0., 0., 1., 0., 0., 1.,\n",
      "        1., 0., 0., 1., 0., 0., 0., 1., 0., 0., 1., 0., 0., 1., 0., 0., 1., 0.,\n",
      "        0., 1., 0., 0., 1., 0., 0., 1., 0., 0., 0., 1., 1., 0., 0., 1., 0., 0.,\n",
      "        1., 0., 0., 1., 0., 0., 0., 0., 1., 0., 0., 1.])\n"
     ]
    },
    {
     "ename": "ValueError",
     "evalue": "Expected input batch_size (64) to match target batch_size (192).",
     "output_type": "error",
     "traceback": [
      "\u001b[0;31m---------------------------------------------------------------------------\u001b[0m",
      "\u001b[0;31mValueError\u001b[0m                                Traceback (most recent call last)",
      "\u001b[1;32m/Users/jiawen/Desktop/USYD_S2/5328/assignment2/test.ipynb 单元格 6\u001b[0m line \u001b[0;36m8\n\u001b[1;32m      <a href='vscode-notebook-cell:/Users/jiawen/Desktop/USYD_S2/5328/assignment2/test.ipynb#W5sZmlsZQ%3D%3D?line=0'>1</a>\u001b[0m (training_accuracies,training_losses,\n\u001b[1;32m      <a href='vscode-notebook-cell:/Users/jiawen/Desktop/USYD_S2/5328/assignment2/test.ipynb#W5sZmlsZQ%3D%3D?line=1'>2</a>\u001b[0m validation_accuracies,\n\u001b[1;32m      <a href='vscode-notebook-cell:/Users/jiawen/Desktop/USYD_S2/5328/assignment2/test.ipynb#W5sZmlsZQ%3D%3D?line=2'>3</a>\u001b[0m validation_losses,\n\u001b[1;32m      <a href='vscode-notebook-cell:/Users/jiawen/Desktop/USYD_S2/5328/assignment2/test.ipynb#W5sZmlsZQ%3D%3D?line=3'>4</a>\u001b[0m test_accuracies,\n\u001b[1;32m      <a href='vscode-notebook-cell:/Users/jiawen/Desktop/USYD_S2/5328/assignment2/test.ipynb#W5sZmlsZQ%3D%3D?line=4'>5</a>\u001b[0m test_losses,\n\u001b[1;32m      <a href='vscode-notebook-cell:/Users/jiawen/Desktop/USYD_S2/5328/assignment2/test.ipynb#W5sZmlsZQ%3D%3D?line=5'>6</a>\u001b[0m precision,\n\u001b[1;32m      <a href='vscode-notebook-cell:/Users/jiawen/Desktop/USYD_S2/5328/assignment2/test.ipynb#W5sZmlsZQ%3D%3D?line=6'>7</a>\u001b[0m recall,\n\u001b[0;32m----> <a href='vscode-notebook-cell:/Users/jiawen/Desktop/USYD_S2/5328/assignment2/test.ipynb#W5sZmlsZQ%3D%3D?line=7'>8</a>\u001b[0m model)\u001b[39m=\u001b[39mrun(CIFAR,epochs\u001b[39m=\u001b[39;49m\u001b[39m2\u001b[39;49m,lr\u001b[39m=\u001b[39;49m\u001b[39m0.01\u001b[39;49m)\n",
      "\u001b[1;32m/Users/jiawen/Desktop/USYD_S2/5328/assignment2/test.ipynb 单元格 6\u001b[0m line \u001b[0;36m1\n\u001b[1;32m     <a href='vscode-notebook-cell:/Users/jiawen/Desktop/USYD_S2/5328/assignment2/test.ipynb#W5sZmlsZQ%3D%3D?line=15'>16</a>\u001b[0m test_accuracies \u001b[39m=\u001b[39m []\n\u001b[1;32m     <a href='vscode-notebook-cell:/Users/jiawen/Desktop/USYD_S2/5328/assignment2/test.ipynb#W5sZmlsZQ%3D%3D?line=17'>18</a>\u001b[0m \u001b[39mfor\u001b[39;00m epoch \u001b[39min\u001b[39;00m \u001b[39mrange\u001b[39m(epochs):\n\u001b[0;32m---> <a href='vscode-notebook-cell:/Users/jiawen/Desktop/USYD_S2/5328/assignment2/test.ipynb#W5sZmlsZQ%3D%3D?line=18'>19</a>\u001b[0m     train_acc, train_loss\u001b[39m=\u001b[39mtrain(model,criterion, optimizer, train_loader)\n\u001b[1;32m     <a href='vscode-notebook-cell:/Users/jiawen/Desktop/USYD_S2/5328/assignment2/test.ipynb#W5sZmlsZQ%3D%3D?line=19'>20</a>\u001b[0m     val_acc, val_loss\u001b[39m=\u001b[39mvalidate(model,criterion, val_loader)\n\u001b[1;32m     <a href='vscode-notebook-cell:/Users/jiawen/Desktop/USYD_S2/5328/assignment2/test.ipynb#W5sZmlsZQ%3D%3D?line=20'>21</a>\u001b[0m     test_acc, test_loss\u001b[39m=\u001b[39mvalidate(model,criterion, test_loader)\n",
      "File \u001b[0;32m~/Desktop/USYD_S2/5328/assignment2/train_evaluate.py:21\u001b[0m, in \u001b[0;36mtrain\u001b[0;34m(model, criterion, optimizer, training_dataloader)\u001b[0m\n\u001b[1;32m     19\u001b[0m labels \u001b[39m=\u001b[39m labels\u001b[39m.\u001b[39mview(\u001b[39m-\u001b[39m\u001b[39m1\u001b[39m)\n\u001b[1;32m     20\u001b[0m \u001b[39mprint\u001b[39m(\u001b[39m'\u001b[39m\u001b[39mlabels_view\u001b[39m\u001b[39m'\u001b[39m,labels)\n\u001b[0;32m---> 21\u001b[0m loss\u001b[39m=\u001b[39mcriterion(probabilities,labels)\n\u001b[1;32m     22\u001b[0m \u001b[39m#print(loss.item())\u001b[39;00m\n\u001b[1;32m     23\u001b[0m optimizer\u001b[39m.\u001b[39mzero_grad()\n",
      "File \u001b[0;32m~/anaconda3/envs/ai/lib/python3.9/site-packages/torch/nn/modules/module.py:1518\u001b[0m, in \u001b[0;36mModule._wrapped_call_impl\u001b[0;34m(self, *args, **kwargs)\u001b[0m\n\u001b[1;32m   1516\u001b[0m     \u001b[39mreturn\u001b[39;00m \u001b[39mself\u001b[39m\u001b[39m.\u001b[39m_compiled_call_impl(\u001b[39m*\u001b[39margs, \u001b[39m*\u001b[39m\u001b[39m*\u001b[39mkwargs)  \u001b[39m# type: ignore[misc]\u001b[39;00m\n\u001b[1;32m   1517\u001b[0m \u001b[39melse\u001b[39;00m:\n\u001b[0;32m-> 1518\u001b[0m     \u001b[39mreturn\u001b[39;00m \u001b[39mself\u001b[39;49m\u001b[39m.\u001b[39;49m_call_impl(\u001b[39m*\u001b[39;49margs, \u001b[39m*\u001b[39;49m\u001b[39m*\u001b[39;49mkwargs)\n",
      "File \u001b[0;32m~/anaconda3/envs/ai/lib/python3.9/site-packages/torch/nn/modules/module.py:1527\u001b[0m, in \u001b[0;36mModule._call_impl\u001b[0;34m(self, *args, **kwargs)\u001b[0m\n\u001b[1;32m   1522\u001b[0m \u001b[39m# If we don't have any hooks, we want to skip the rest of the logic in\u001b[39;00m\n\u001b[1;32m   1523\u001b[0m \u001b[39m# this function, and just call forward.\u001b[39;00m\n\u001b[1;32m   1524\u001b[0m \u001b[39mif\u001b[39;00m \u001b[39mnot\u001b[39;00m (\u001b[39mself\u001b[39m\u001b[39m.\u001b[39m_backward_hooks \u001b[39mor\u001b[39;00m \u001b[39mself\u001b[39m\u001b[39m.\u001b[39m_backward_pre_hooks \u001b[39mor\u001b[39;00m \u001b[39mself\u001b[39m\u001b[39m.\u001b[39m_forward_hooks \u001b[39mor\u001b[39;00m \u001b[39mself\u001b[39m\u001b[39m.\u001b[39m_forward_pre_hooks\n\u001b[1;32m   1525\u001b[0m         \u001b[39mor\u001b[39;00m _global_backward_pre_hooks \u001b[39mor\u001b[39;00m _global_backward_hooks\n\u001b[1;32m   1526\u001b[0m         \u001b[39mor\u001b[39;00m _global_forward_hooks \u001b[39mor\u001b[39;00m _global_forward_pre_hooks):\n\u001b[0;32m-> 1527\u001b[0m     \u001b[39mreturn\u001b[39;00m forward_call(\u001b[39m*\u001b[39;49margs, \u001b[39m*\u001b[39;49m\u001b[39m*\u001b[39;49mkwargs)\n\u001b[1;32m   1529\u001b[0m \u001b[39mtry\u001b[39;00m:\n\u001b[1;32m   1530\u001b[0m     result \u001b[39m=\u001b[39m \u001b[39mNone\u001b[39;00m\n",
      "File \u001b[0;32m~/anaconda3/envs/ai/lib/python3.9/site-packages/torch/nn/modules/loss.py:1179\u001b[0m, in \u001b[0;36mCrossEntropyLoss.forward\u001b[0;34m(self, input, target)\u001b[0m\n\u001b[1;32m   1178\u001b[0m \u001b[39mdef\u001b[39;00m \u001b[39mforward\u001b[39m(\u001b[39mself\u001b[39m, \u001b[39minput\u001b[39m: Tensor, target: Tensor) \u001b[39m-\u001b[39m\u001b[39m>\u001b[39m Tensor:\n\u001b[0;32m-> 1179\u001b[0m     \u001b[39mreturn\u001b[39;00m F\u001b[39m.\u001b[39;49mcross_entropy(\u001b[39minput\u001b[39;49m, target, weight\u001b[39m=\u001b[39;49m\u001b[39mself\u001b[39;49m\u001b[39m.\u001b[39;49mweight,\n\u001b[1;32m   1180\u001b[0m                            ignore_index\u001b[39m=\u001b[39;49m\u001b[39mself\u001b[39;49m\u001b[39m.\u001b[39;49mignore_index, reduction\u001b[39m=\u001b[39;49m\u001b[39mself\u001b[39;49m\u001b[39m.\u001b[39;49mreduction,\n\u001b[1;32m   1181\u001b[0m                            label_smoothing\u001b[39m=\u001b[39;49m\u001b[39mself\u001b[39;49m\u001b[39m.\u001b[39;49mlabel_smoothing)\n",
      "File \u001b[0;32m~/anaconda3/envs/ai/lib/python3.9/site-packages/torch/nn/functional.py:3053\u001b[0m, in \u001b[0;36mcross_entropy\u001b[0;34m(input, target, weight, size_average, ignore_index, reduce, reduction, label_smoothing)\u001b[0m\n\u001b[1;32m   3051\u001b[0m \u001b[39mif\u001b[39;00m size_average \u001b[39mis\u001b[39;00m \u001b[39mnot\u001b[39;00m \u001b[39mNone\u001b[39;00m \u001b[39mor\u001b[39;00m reduce \u001b[39mis\u001b[39;00m \u001b[39mnot\u001b[39;00m \u001b[39mNone\u001b[39;00m:\n\u001b[1;32m   3052\u001b[0m     reduction \u001b[39m=\u001b[39m _Reduction\u001b[39m.\u001b[39mlegacy_get_string(size_average, reduce)\n\u001b[0;32m-> 3053\u001b[0m \u001b[39mreturn\u001b[39;00m torch\u001b[39m.\u001b[39;49m_C\u001b[39m.\u001b[39;49m_nn\u001b[39m.\u001b[39;49mcross_entropy_loss(\u001b[39minput\u001b[39;49m, target, weight, _Reduction\u001b[39m.\u001b[39;49mget_enum(reduction), ignore_index, label_smoothing)\n",
      "\u001b[0;31mValueError\u001b[0m: Expected input batch_size (64) to match target batch_size (192)."
     ]
    }
   ],
   "source": [
    "(training_accuracies,training_losses,\n",
    "validation_accuracies,\n",
    "validation_losses,\n",
    "test_accuracies,\n",
    "test_losses,\n",
    "precision,\n",
    "recall,\n",
    "model)=run(CIFAR,epochs=2,lr=0.01)"
   ]
  },
  {
   "cell_type": "code",
   "execution_count": null,
   "metadata": {},
   "outputs": [],
   "source": []
  }
 ],
 "metadata": {
  "kernelspec": {
   "display_name": "ai",
   "language": "python",
   "name": "python3"
  },
  "language_info": {
   "codemirror_mode": {
    "name": "ipython",
    "version": 3
   },
   "file_extension": ".py",
   "mimetype": "text/x-python",
   "name": "python",
   "nbconvert_exporter": "python",
   "pygments_lexer": "ipython3",
   "version": "3.9.18"
  }
 },
 "nbformat": 4,
 "nbformat_minor": 2
}
